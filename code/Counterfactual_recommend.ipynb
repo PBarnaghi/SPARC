{
 "cells": [
  {
   "cell_type": "code",
   "execution_count": 1,
   "id": "560a8c68",
   "metadata": {},
   "outputs": [],
   "source": [
    "# Sklearn imports\n",
    "from sklearn.model_selection import train_test_split\n",
    "from sklearn.linear_model import LinearRegression\n",
    "from sklearn.metrics import mean_absolute_error\n",
    "import shap\n",
    "import pickle"
   ]
  },
  {
   "cell_type": "code",
   "execution_count": 2,
   "id": "88e5c1cc",
   "metadata": {},
   "outputs": [],
   "source": [
    "import torch\n",
    "import torch.nn as nn\n",
    "from torch.utils.data import Dataset\n",
    "import tqdm"
   ]
  },
  {
   "cell_type": "code",
   "execution_count": 3,
   "id": "d5f6e99f",
   "metadata": {},
   "outputs": [],
   "source": [
    "import pandas as pd\n",
    "import numpy as np"
   ]
  },
  {
   "cell_type": "code",
   "execution_count": 9,
   "id": "914e5075",
   "metadata": {},
   "outputs": [],
   "source": [
    "%matplotlib inline"
   ]
  },
  {
   "cell_type": "code",
   "execution_count": 4,
   "id": "78480536",
   "metadata": {},
   "outputs": [],
   "source": [
    "%load_ext autoreload\n",
    "%autoreload 2"
   ]
  },
  {
   "cell_type": "code",
   "execution_count": 5,
   "id": "5b6197d2",
   "metadata": {},
   "outputs": [],
   "source": [
    "class Linear(nn.Module):\n",
    "    def __init__(self, weights,bias):\n",
    "        super(Linear, self).__init__()\n",
    "        self.weights = weights\n",
    "        self.bias = bias        \n",
    "    \n",
    "    def forward(self, x):\n",
    "        y = torch.matmul(x,self.weights)+self.bias\n",
    "        return y"
   ]
  },
  {
   "cell_type": "code",
   "execution_count": 6,
   "id": "7649b2f6",
   "metadata": {},
   "outputs": [],
   "source": [
    "def min_max_normalization(df,col_name):\n",
    "    min_val = df[col_name].min()\n",
    "    max_val = df[col_name].max()\n",
    "    df[col_name] = (df[col_name]-min_val)/(max_val-min_val)\n",
    "    return df"
   ]
  },
  {
   "cell_type": "code",
   "execution_count": 7,
   "id": "38aac589",
   "metadata": {},
   "outputs": [],
   "source": [
    "def conterfactual_infer(query_x,target_y,feature_ids, model, loss_fn, max_iters):\n",
    "    model.eval()\n",
    "    tqdm_range = tqdm.tqdm(range(max_iters))\n",
    "    cx = torch.clone(query_x)\n",
    "    cx.requires_grad = True\n",
    "    cf_optimizer = torch.optim.Adam([cx], lr=0.01)\n",
    "    mask = torch.ones_like(query_x).type(torch.bool)\n",
    "    mask[:,feature_ids] = False\n",
    "\n",
    "    for it in tqdm_range:\n",
    "        cy = model(cx)\n",
    "        loss = loss_fn(cy,target_y)#loss_fn(query_x,cx,cy,target_y,feature_ids)\n",
    "        loss.backward()\n",
    "        cx.grad[mask]=0.\n",
    "        cf_optimizer.step()\n",
    "        cf_optimizer.zero_grad()\n",
    "\n",
    "        if (it+1)%10 == 0:    \n",
    "            tqdm_range.write('iter: {}, loss: {}'.format(it+1, loss.detach()))\n",
    "    return cx, model(cx)"
   ]
  },
  {
   "cell_type": "code",
   "execution_count": 8,
   "id": "86d954c5",
   "metadata": {},
   "outputs": [],
   "source": [
    "def query_recommendation(query_x,target_y,model,query_features,max_iters=200):\n",
    "    \n",
    "    if len(query_x.shape)==1:\n",
    "        query_x = query_x.reshape(1,-1)\n",
    "    if not isinstance(query_x,torch.Tensor):\n",
    "        query_x = torch.Tensor(query_x)\n",
    "        \n",
    "    query_y = model(query_x)\n",
    "    feature_ids = [feature_map[s] for s in query_features ]\n",
    "    print(feature_ids)\n",
    "    loss_fn = torch.nn.MSELoss(reduction='mean')\n",
    "    \n",
    "    cx,cy = conterfactual_infer(query_x,target_y,feature_ids, model, loss_fn, max_iters)\n",
    "    \n",
    "    diff = torch.abs(query_x-cx).reshape(-1)\n",
    "    \n",
    "\n",
    "    cf = features[diff>0]\n",
    "    cx = cx[:,diff>0]\n",
    "    \n",
    "    return cx.detach().numpy().reshape(-1),cy.detach().numpy(),cf"
   ]
  },
  {
   "cell_type": "code",
   "execution_count": null,
   "id": "570d0b74",
   "metadata": {},
   "outputs": [],
   "source": []
  },
  {
   "cell_type": "code",
   "execution_count": 10,
   "id": "d30d7ce3",
   "metadata": {},
   "outputs": [
    {
     "data": {
      "text/html": [
       "<div>\n",
       "<style scoped>\n",
       "    .dataframe tbody tr th:only-of-type {\n",
       "        vertical-align: middle;\n",
       "    }\n",
       "\n",
       "    .dataframe tbody tr th {\n",
       "        vertical-align: top;\n",
       "    }\n",
       "\n",
       "    .dataframe thead th {\n",
       "        text-align: right;\n",
       "    }\n",
       "</style>\n",
       "<table border=\"1\" class=\"dataframe\">\n",
       "  <thead>\n",
       "    <tr style=\"text-align: right;\">\n",
       "      <th></th>\n",
       "      <th>n_participant</th>\n",
       "      <th>duration</th>\n",
       "      <th>age&gt;65</th>\n",
       "      <th>male</th>\n",
       "      <th>ethnicity_white</th>\n",
       "      <th>use_technology</th>\n",
       "      <th>medication</th>\n",
       "      <th>follow_up_considered</th>\n",
       "      <th>use_wearables</th>\n",
       "      <th>use_mobile_app</th>\n",
       "      <th>...</th>\n",
       "      <th>feedback_provided</th>\n",
       "      <th>prioir_treatment_history_considered</th>\n",
       "      <th>co_mobidities_considered</th>\n",
       "      <th>treatment_type</th>\n",
       "      <th>biosamples_collected</th>\n",
       "      <th>randomised</th>\n",
       "      <th>mutli_site</th>\n",
       "      <th>adverse_event_considered</th>\n",
       "      <th>support_sessions</th>\n",
       "      <th>retention_rate</th>\n",
       "    </tr>\n",
       "  </thead>\n",
       "  <tbody>\n",
       "    <tr>\n",
       "      <th>0</th>\n",
       "      <td>11550.0</td>\n",
       "      <td>418.0</td>\n",
       "      <td>0.269070</td>\n",
       "      <td>0.349416</td>\n",
       "      <td>0.521052</td>\n",
       "      <td>yes</td>\n",
       "      <td>Testosterone</td>\n",
       "      <td>yes</td>\n",
       "      <td>no</td>\n",
       "      <td>no</td>\n",
       "      <td>...</td>\n",
       "      <td>yes</td>\n",
       "      <td>no</td>\n",
       "      <td>yes</td>\n",
       "      <td>behavioural</td>\n",
       "      <td>no</td>\n",
       "      <td>yes</td>\n",
       "      <td>no</td>\n",
       "      <td>yes</td>\n",
       "      <td>yes</td>\n",
       "      <td>0.545453</td>\n",
       "    </tr>\n",
       "    <tr>\n",
       "      <th>1</th>\n",
       "      <td>60926.0</td>\n",
       "      <td>56.0</td>\n",
       "      <td>0.355991</td>\n",
       "      <td>0.461932</td>\n",
       "      <td>0.437640</td>\n",
       "      <td>no</td>\n",
       "      <td>Testosterone</td>\n",
       "      <td>yes</td>\n",
       "      <td>yes</td>\n",
       "      <td>yes</td>\n",
       "      <td>...</td>\n",
       "      <td>no</td>\n",
       "      <td>yes</td>\n",
       "      <td>yes</td>\n",
       "      <td>behavioural</td>\n",
       "      <td>yes</td>\n",
       "      <td>yes</td>\n",
       "      <td>yes</td>\n",
       "      <td>yes</td>\n",
       "      <td>yes</td>\n",
       "      <td>0.911800</td>\n",
       "    </tr>\n",
       "    <tr>\n",
       "      <th>2</th>\n",
       "      <td>13382.0</td>\n",
       "      <td>373.0</td>\n",
       "      <td>0.404902</td>\n",
       "      <td>0.304780</td>\n",
       "      <td>0.819994</td>\n",
       "      <td>yes</td>\n",
       "      <td>5ARI</td>\n",
       "      <td>yes</td>\n",
       "      <td>yes</td>\n",
       "      <td>yes</td>\n",
       "      <td>...</td>\n",
       "      <td>yes</td>\n",
       "      <td>no</td>\n",
       "      <td>yes</td>\n",
       "      <td>behavioural</td>\n",
       "      <td>no</td>\n",
       "      <td>yes</td>\n",
       "      <td>no</td>\n",
       "      <td>no</td>\n",
       "      <td>yes</td>\n",
       "      <td>0.597245</td>\n",
       "    </tr>\n",
       "    <tr>\n",
       "      <th>3</th>\n",
       "      <td>24097.0</td>\n",
       "      <td>183.0</td>\n",
       "      <td>0.264093</td>\n",
       "      <td>0.620426</td>\n",
       "      <td>0.824459</td>\n",
       "      <td>yes</td>\n",
       "      <td>venlafaxine</td>\n",
       "      <td>yes</td>\n",
       "      <td>no</td>\n",
       "      <td>no</td>\n",
       "      <td>...</td>\n",
       "      <td>yes</td>\n",
       "      <td>yes</td>\n",
       "      <td>yes</td>\n",
       "      <td>medication</td>\n",
       "      <td>yes</td>\n",
       "      <td>no</td>\n",
       "      <td>yes</td>\n",
       "      <td>yes</td>\n",
       "      <td>yes</td>\n",
       "      <td>0.780205</td>\n",
       "    </tr>\n",
       "    <tr>\n",
       "      <th>4</th>\n",
       "      <td>32748.0</td>\n",
       "      <td>182.0</td>\n",
       "      <td>0.114587</td>\n",
       "      <td>0.412570</td>\n",
       "      <td>0.702339</td>\n",
       "      <td>no</td>\n",
       "      <td>citalopram</td>\n",
       "      <td>yes</td>\n",
       "      <td>yes</td>\n",
       "      <td>yes</td>\n",
       "      <td>...</td>\n",
       "      <td>no</td>\n",
       "      <td>yes</td>\n",
       "      <td>no</td>\n",
       "      <td>rTMS</td>\n",
       "      <td>no</td>\n",
       "      <td>no</td>\n",
       "      <td>no</td>\n",
       "      <td>no</td>\n",
       "      <td>yes</td>\n",
       "      <td>0.773729</td>\n",
       "    </tr>\n",
       "  </tbody>\n",
       "</table>\n",
       "<p>5 rows × 22 columns</p>\n",
       "</div>"
      ],
      "text/plain": [
       "   n_participant  duration    age>65      male  ethnicity_white  \\\n",
       "0        11550.0     418.0  0.269070  0.349416         0.521052   \n",
       "1        60926.0      56.0  0.355991  0.461932         0.437640   \n",
       "2        13382.0     373.0  0.404902  0.304780         0.819994   \n",
       "3        24097.0     183.0  0.264093  0.620426         0.824459   \n",
       "4        32748.0     182.0  0.114587  0.412570         0.702339   \n",
       "\n",
       "  use_technology    medication follow_up_considered use_wearables  \\\n",
       "0            yes  Testosterone                  yes            no   \n",
       "1             no  Testosterone                  yes           yes   \n",
       "2            yes          5ARI                  yes           yes   \n",
       "3            yes   venlafaxine                  yes            no   \n",
       "4             no    citalopram                  yes           yes   \n",
       "\n",
       "  use_mobile_app  ... feedback_provided prioir_treatment_history_considered  \\\n",
       "0             no  ...               yes                                  no   \n",
       "1            yes  ...                no                                 yes   \n",
       "2            yes  ...               yes                                  no   \n",
       "3             no  ...               yes                                 yes   \n",
       "4            yes  ...                no                                 yes   \n",
       "\n",
       "  co_mobidities_considered treatment_type biosamples_collected randomised  \\\n",
       "0                      yes    behavioural                   no        yes   \n",
       "1                      yes    behavioural                  yes        yes   \n",
       "2                      yes    behavioural                   no        yes   \n",
       "3                      yes     medication                  yes         no   \n",
       "4                       no           rTMS                   no         no   \n",
       "\n",
       "  mutli_site adverse_event_considered support_sessions retention_rate  \n",
       "0         no                      yes              yes       0.545453  \n",
       "1        yes                      yes              yes       0.911800  \n",
       "2         no                       no              yes       0.597245  \n",
       "3        yes                      yes              yes       0.780205  \n",
       "4         no                       no              yes       0.773729  \n",
       "\n",
       "[5 rows x 22 columns]"
      ]
     },
     "execution_count": 10,
     "metadata": {},
     "output_type": "execute_result"
    }
   ],
   "source": [
    "dataset = pd.read_csv(\"../data/trial_static_data.csv\")\n",
    "dataset.head()"
   ]
  },
  {
   "cell_type": "code",
   "execution_count": 11,
   "id": "d7c10e17",
   "metadata": {},
   "outputs": [],
   "source": [
    "continuous = [\"n_participant\",\"duration\",\"age>65\",\"male\",\"ethnicity_white\",\"retention_rate\"]\n",
    "categorical = dataset.columns.difference(continuous)"
   ]
  },
  {
   "cell_type": "code",
   "execution_count": 12,
   "id": "2e129401",
   "metadata": {},
   "outputs": [],
   "source": [
    "one_hot_encoded = pd.get_dummies(dataset[categorical])\n",
    "df_encoded = pd.concat([dataset.drop(categorical,axis=1), one_hot_encoded], axis=1)\n",
    "df_encoded = min_max_normalization(df_encoded,[\"n_participant\",\"duration\"])"
   ]
  },
  {
   "cell_type": "code",
   "execution_count": 28,
   "id": "6e2e2858",
   "metadata": {},
   "outputs": [
    {
     "data": {
      "text/plain": [
       "(500.0, 4.0)"
      ]
     },
     "execution_count": 28,
     "metadata": {},
     "output_type": "execute_result"
    }
   ],
   "source": [
    "dataset[\"duration\"].max(),dataset[\"duration\"].min()"
   ]
  },
  {
   "cell_type": "code",
   "execution_count": 13,
   "id": "7832cc02",
   "metadata": {},
   "outputs": [
    {
     "data": {
      "text/html": [
       "<div>\n",
       "<style scoped>\n",
       "    .dataframe tbody tr th:only-of-type {\n",
       "        vertical-align: middle;\n",
       "    }\n",
       "\n",
       "    .dataframe tbody tr th {\n",
       "        vertical-align: top;\n",
       "    }\n",
       "\n",
       "    .dataframe thead th {\n",
       "        text-align: right;\n",
       "    }\n",
       "</style>\n",
       "<table border=\"1\" class=\"dataframe\">\n",
       "  <thead>\n",
       "    <tr style=\"text-align: right;\">\n",
       "      <th></th>\n",
       "      <th>n_participant</th>\n",
       "      <th>duration</th>\n",
       "      <th>age&gt;65</th>\n",
       "      <th>male</th>\n",
       "      <th>ethnicity_white</th>\n",
       "      <th>retention_rate</th>\n",
       "      <th>adverse_event_considered_no</th>\n",
       "      <th>adverse_event_considered_yes</th>\n",
       "      <th>biosamples_collected_no</th>\n",
       "      <th>biosamples_collected_yes</th>\n",
       "      <th>...</th>\n",
       "      <th>treatment_type_behavioural</th>\n",
       "      <th>treatment_type_medication</th>\n",
       "      <th>treatment_type_observational</th>\n",
       "      <th>treatment_type_rTMS</th>\n",
       "      <th>use_mobile_app_no</th>\n",
       "      <th>use_mobile_app_yes</th>\n",
       "      <th>use_technology_no</th>\n",
       "      <th>use_technology_yes</th>\n",
       "      <th>use_wearables_no</th>\n",
       "      <th>use_wearables_yes</th>\n",
       "    </tr>\n",
       "  </thead>\n",
       "  <tbody>\n",
       "    <tr>\n",
       "      <th>0</th>\n",
       "      <td>0.115041</td>\n",
       "      <td>0.834677</td>\n",
       "      <td>0.269070</td>\n",
       "      <td>0.349416</td>\n",
       "      <td>0.521052</td>\n",
       "      <td>0.545453</td>\n",
       "      <td>0</td>\n",
       "      <td>1</td>\n",
       "      <td>1</td>\n",
       "      <td>0</td>\n",
       "      <td>...</td>\n",
       "      <td>1</td>\n",
       "      <td>0</td>\n",
       "      <td>0</td>\n",
       "      <td>0</td>\n",
       "      <td>1</td>\n",
       "      <td>0</td>\n",
       "      <td>0</td>\n",
       "      <td>1</td>\n",
       "      <td>1</td>\n",
       "      <td>0</td>\n",
       "    </tr>\n",
       "    <tr>\n",
       "      <th>1</th>\n",
       "      <td>0.609063</td>\n",
       "      <td>0.104839</td>\n",
       "      <td>0.355991</td>\n",
       "      <td>0.461932</td>\n",
       "      <td>0.437640</td>\n",
       "      <td>0.911800</td>\n",
       "      <td>0</td>\n",
       "      <td>1</td>\n",
       "      <td>0</td>\n",
       "      <td>1</td>\n",
       "      <td>...</td>\n",
       "      <td>1</td>\n",
       "      <td>0</td>\n",
       "      <td>0</td>\n",
       "      <td>0</td>\n",
       "      <td>0</td>\n",
       "      <td>1</td>\n",
       "      <td>1</td>\n",
       "      <td>0</td>\n",
       "      <td>0</td>\n",
       "      <td>1</td>\n",
       "    </tr>\n",
       "    <tr>\n",
       "      <th>2</th>\n",
       "      <td>0.133371</td>\n",
       "      <td>0.743952</td>\n",
       "      <td>0.404902</td>\n",
       "      <td>0.304780</td>\n",
       "      <td>0.819994</td>\n",
       "      <td>0.597245</td>\n",
       "      <td>1</td>\n",
       "      <td>0</td>\n",
       "      <td>1</td>\n",
       "      <td>0</td>\n",
       "      <td>...</td>\n",
       "      <td>1</td>\n",
       "      <td>0</td>\n",
       "      <td>0</td>\n",
       "      <td>0</td>\n",
       "      <td>0</td>\n",
       "      <td>1</td>\n",
       "      <td>0</td>\n",
       "      <td>1</td>\n",
       "      <td>0</td>\n",
       "      <td>1</td>\n",
       "    </tr>\n",
       "    <tr>\n",
       "      <th>3</th>\n",
       "      <td>0.240578</td>\n",
       "      <td>0.360887</td>\n",
       "      <td>0.264093</td>\n",
       "      <td>0.620426</td>\n",
       "      <td>0.824459</td>\n",
       "      <td>0.780205</td>\n",
       "      <td>0</td>\n",
       "      <td>1</td>\n",
       "      <td>0</td>\n",
       "      <td>1</td>\n",
       "      <td>...</td>\n",
       "      <td>0</td>\n",
       "      <td>1</td>\n",
       "      <td>0</td>\n",
       "      <td>0</td>\n",
       "      <td>1</td>\n",
       "      <td>0</td>\n",
       "      <td>0</td>\n",
       "      <td>1</td>\n",
       "      <td>1</td>\n",
       "      <td>0</td>\n",
       "    </tr>\n",
       "    <tr>\n",
       "      <th>4</th>\n",
       "      <td>0.327133</td>\n",
       "      <td>0.358871</td>\n",
       "      <td>0.114587</td>\n",
       "      <td>0.412570</td>\n",
       "      <td>0.702339</td>\n",
       "      <td>0.773729</td>\n",
       "      <td>1</td>\n",
       "      <td>0</td>\n",
       "      <td>1</td>\n",
       "      <td>0</td>\n",
       "      <td>...</td>\n",
       "      <td>0</td>\n",
       "      <td>0</td>\n",
       "      <td>0</td>\n",
       "      <td>1</td>\n",
       "      <td>0</td>\n",
       "      <td>1</td>\n",
       "      <td>1</td>\n",
       "      <td>0</td>\n",
       "      <td>0</td>\n",
       "      <td>1</td>\n",
       "    </tr>\n",
       "  </tbody>\n",
       "</table>\n",
       "<p>5 rows × 44 columns</p>\n",
       "</div>"
      ],
      "text/plain": [
       "   n_participant  duration    age>65      male  ethnicity_white  \\\n",
       "0       0.115041  0.834677  0.269070  0.349416         0.521052   \n",
       "1       0.609063  0.104839  0.355991  0.461932         0.437640   \n",
       "2       0.133371  0.743952  0.404902  0.304780         0.819994   \n",
       "3       0.240578  0.360887  0.264093  0.620426         0.824459   \n",
       "4       0.327133  0.358871  0.114587  0.412570         0.702339   \n",
       "\n",
       "   retention_rate  adverse_event_considered_no  adverse_event_considered_yes  \\\n",
       "0        0.545453                            0                             1   \n",
       "1        0.911800                            0                             1   \n",
       "2        0.597245                            1                             0   \n",
       "3        0.780205                            0                             1   \n",
       "4        0.773729                            1                             0   \n",
       "\n",
       "   biosamples_collected_no  biosamples_collected_yes  ...  \\\n",
       "0                        1                         0  ...   \n",
       "1                        0                         1  ...   \n",
       "2                        1                         0  ...   \n",
       "3                        0                         1  ...   \n",
       "4                        1                         0  ...   \n",
       "\n",
       "   treatment_type_behavioural  treatment_type_medication  \\\n",
       "0                           1                          0   \n",
       "1                           1                          0   \n",
       "2                           1                          0   \n",
       "3                           0                          1   \n",
       "4                           0                          0   \n",
       "\n",
       "   treatment_type_observational  treatment_type_rTMS  use_mobile_app_no  \\\n",
       "0                             0                    0                  1   \n",
       "1                             0                    0                  0   \n",
       "2                             0                    0                  0   \n",
       "3                             0                    0                  1   \n",
       "4                             0                    1                  0   \n",
       "\n",
       "   use_mobile_app_yes  use_technology_no  use_technology_yes  \\\n",
       "0                   0                  0                   1   \n",
       "1                   1                  1                   0   \n",
       "2                   1                  0                   1   \n",
       "3                   0                  0                   1   \n",
       "4                   1                  1                   0   \n",
       "\n",
       "   use_wearables_no  use_wearables_yes  \n",
       "0                 1                  0  \n",
       "1                 0                  1  \n",
       "2                 0                  1  \n",
       "3                 1                  0  \n",
       "4                 0                  1  \n",
       "\n",
       "[5 rows x 44 columns]"
      ]
     },
     "execution_count": 13,
     "metadata": {},
     "output_type": "execute_result"
    }
   ],
   "source": [
    "df_encoded.head()"
   ]
  },
  {
   "cell_type": "code",
   "execution_count": 14,
   "id": "61f4761f",
   "metadata": {},
   "outputs": [],
   "source": [
    "target = dataset[\"retention_rate\"]\n",
    "train_dataset, test_dataset, y_train, y_test = train_test_split(df_encoded,\n",
    "                                                                target,\n",
    "                                                                test_size=0.2,\n",
    "                                                                random_state=0,\n",
    "                                                                )\n",
    "x_train = train_dataset.drop('retention_rate', axis=1)\n",
    "x_test = test_dataset.drop('retention_rate', axis=1)\n"
   ]
  },
  {
   "cell_type": "code",
   "execution_count": 15,
   "id": "f88152dc",
   "metadata": {},
   "outputs": [],
   "source": [
    "features = x_train.columns\n",
    "feature_map = {}\n",
    "for i,f in enumerate(features):\n",
    "    feature_map[f]=i"
   ]
  },
  {
   "cell_type": "code",
   "execution_count": 16,
   "id": "bccde186",
   "metadata": {},
   "outputs": [
    {
     "data": {
      "text/plain": [
       "Index(['n_participant', 'duration', 'age>65', 'male', 'ethnicity_white',\n",
       "       'adverse_event_considered_no', 'adverse_event_considered_yes',\n",
       "       'biosamples_collected_no', 'biosamples_collected_yes',\n",
       "       'co_mobidities_considered_no', 'co_mobidities_considered_yes',\n",
       "       'feedback_provided_no', 'feedback_provided_yes',\n",
       "       'follow_up_considered_no', 'follow_up_considered_yes',\n",
       "       'interviews_needed_no', 'interviews_needed_yes', 'medication_5ARI',\n",
       "       'medication_Antidepressant', 'medication_Escitalopram',\n",
       "       'medication_Testosterone', 'medication_citalopram',\n",
       "       'medication_venlafaxine', 'mutli_site_no', 'mutli_site_yes',\n",
       "       'prioir_treatment_history_considered_no',\n",
       "       'prioir_treatment_history_considered_yes', 'questionare_completed_no',\n",
       "       'questionare_completed_yes', 'randomised_no', 'randomised_yes',\n",
       "       'support_sessions_no', 'support_sessions_yes',\n",
       "       'treatment_type_behavioural', 'treatment_type_medication',\n",
       "       'treatment_type_observational', 'treatment_type_rTMS',\n",
       "       'use_mobile_app_no', 'use_mobile_app_yes', 'use_technology_no',\n",
       "       'use_technology_yes', 'use_wearables_no', 'use_wearables_yes'],\n",
       "      dtype='object')"
      ]
     },
     "execution_count": 16,
     "metadata": {},
     "output_type": "execute_result"
    }
   ],
   "source": [
    "features"
   ]
  },
  {
   "cell_type": "code",
   "execution_count": 17,
   "id": "1e4aa572",
   "metadata": {},
   "outputs": [
    {
     "data": {
      "text/html": [
       "<style>#sk-container-id-1 {color: black;background-color: white;}#sk-container-id-1 pre{padding: 0;}#sk-container-id-1 div.sk-toggleable {background-color: white;}#sk-container-id-1 label.sk-toggleable__label {cursor: pointer;display: block;width: 100%;margin-bottom: 0;padding: 0.3em;box-sizing: border-box;text-align: center;}#sk-container-id-1 label.sk-toggleable__label-arrow:before {content: \"▸\";float: left;margin-right: 0.25em;color: #696969;}#sk-container-id-1 label.sk-toggleable__label-arrow:hover:before {color: black;}#sk-container-id-1 div.sk-estimator:hover label.sk-toggleable__label-arrow:before {color: black;}#sk-container-id-1 div.sk-toggleable__content {max-height: 0;max-width: 0;overflow: hidden;text-align: left;background-color: #f0f8ff;}#sk-container-id-1 div.sk-toggleable__content pre {margin: 0.2em;color: black;border-radius: 0.25em;background-color: #f0f8ff;}#sk-container-id-1 input.sk-toggleable__control:checked~div.sk-toggleable__content {max-height: 200px;max-width: 100%;overflow: auto;}#sk-container-id-1 input.sk-toggleable__control:checked~label.sk-toggleable__label-arrow:before {content: \"▾\";}#sk-container-id-1 div.sk-estimator input.sk-toggleable__control:checked~label.sk-toggleable__label {background-color: #d4ebff;}#sk-container-id-1 div.sk-label input.sk-toggleable__control:checked~label.sk-toggleable__label {background-color: #d4ebff;}#sk-container-id-1 input.sk-hidden--visually {border: 0;clip: rect(1px 1px 1px 1px);clip: rect(1px, 1px, 1px, 1px);height: 1px;margin: -1px;overflow: hidden;padding: 0;position: absolute;width: 1px;}#sk-container-id-1 div.sk-estimator {font-family: monospace;background-color: #f0f8ff;border: 1px dotted black;border-radius: 0.25em;box-sizing: border-box;margin-bottom: 0.5em;}#sk-container-id-1 div.sk-estimator:hover {background-color: #d4ebff;}#sk-container-id-1 div.sk-parallel-item::after {content: \"\";width: 100%;border-bottom: 1px solid gray;flex-grow: 1;}#sk-container-id-1 div.sk-label:hover label.sk-toggleable__label {background-color: #d4ebff;}#sk-container-id-1 div.sk-serial::before {content: \"\";position: absolute;border-left: 1px solid gray;box-sizing: border-box;top: 0;bottom: 0;left: 50%;z-index: 0;}#sk-container-id-1 div.sk-serial {display: flex;flex-direction: column;align-items: center;background-color: white;padding-right: 0.2em;padding-left: 0.2em;position: relative;}#sk-container-id-1 div.sk-item {position: relative;z-index: 1;}#sk-container-id-1 div.sk-parallel {display: flex;align-items: stretch;justify-content: center;background-color: white;position: relative;}#sk-container-id-1 div.sk-item::before, #sk-container-id-1 div.sk-parallel-item::before {content: \"\";position: absolute;border-left: 1px solid gray;box-sizing: border-box;top: 0;bottom: 0;left: 50%;z-index: -1;}#sk-container-id-1 div.sk-parallel-item {display: flex;flex-direction: column;z-index: 1;position: relative;background-color: white;}#sk-container-id-1 div.sk-parallel-item:first-child::after {align-self: flex-end;width: 50%;}#sk-container-id-1 div.sk-parallel-item:last-child::after {align-self: flex-start;width: 50%;}#sk-container-id-1 div.sk-parallel-item:only-child::after {width: 0;}#sk-container-id-1 div.sk-dashed-wrapped {border: 1px dashed gray;margin: 0 0.4em 0.5em 0.4em;box-sizing: border-box;padding-bottom: 0.4em;background-color: white;}#sk-container-id-1 div.sk-label label {font-family: monospace;font-weight: bold;display: inline-block;line-height: 1.2em;}#sk-container-id-1 div.sk-label-container {text-align: center;}#sk-container-id-1 div.sk-container {/* jupyter's `normalize.less` sets `[hidden] { display: none; }` but bootstrap.min.css set `[hidden] { display: none !important; }` so we also need the `!important` here to be able to override the default hidden behavior on the sphinx rendered scikit-learn.org. See: https://github.com/scikit-learn/scikit-learn/issues/21755 */display: inline-block !important;position: relative;}#sk-container-id-1 div.sk-text-repr-fallback {display: none;}</style><div id=\"sk-container-id-1\" class=\"sk-top-container\"><div class=\"sk-text-repr-fallback\"><pre>LinearRegression()</pre><b>In a Jupyter environment, please rerun this cell to show the HTML representation or trust the notebook. <br />On GitHub, the HTML representation is unable to render, please try loading this page with nbviewer.org.</b></div><div class=\"sk-container\" hidden><div class=\"sk-item\"><div class=\"sk-estimator sk-toggleable\"><input class=\"sk-toggleable__control sk-hidden--visually\" id=\"sk-estimator-id-1\" type=\"checkbox\" checked><label for=\"sk-estimator-id-1\" class=\"sk-toggleable__label sk-toggleable__label-arrow\">LinearRegression</label><div class=\"sk-toggleable__content\"><pre>LinearRegression()</pre></div></div></div></div></div>"
      ],
      "text/plain": [
       "LinearRegression()"
      ]
     },
     "execution_count": 17,
     "metadata": {},
     "output_type": "execute_result"
    }
   ],
   "source": [
    "lrg = LinearRegression()\n",
    "lrg.fit(x_train,y_train)"
   ]
  },
  {
   "cell_type": "code",
   "execution_count": 18,
   "id": "ad3bf237",
   "metadata": {},
   "outputs": [
    {
     "data": {
      "text/plain": [
       "2.527256182105475e-16"
      ]
     },
     "execution_count": 18,
     "metadata": {},
     "output_type": "execute_result"
    }
   ],
   "source": [
    "pred_y = lrg.predict(x_test)\n",
    "score = mean_absolute_error(y_test,pred_y)\n",
    "score"
   ]
  },
  {
   "cell_type": "code",
   "execution_count": 19,
   "id": "0c489a1c",
   "metadata": {},
   "outputs": [
    {
     "data": {
      "text/plain": [
       "(array([ 3.88139867e-16, -4.96000000e-01,  5.00000000e-02, -8.56018295e-17,\n",
       "         1.98603175e-16, -3.03069803e-05, -3.03069803e-05, -7.94522486e-03,\n",
       "        -7.94522486e-03,  5.00151578e-04,  5.00151578e-04,  7.59676592e-04,\n",
       "         7.59676592e-04, -2.24458253e-04, -2.24458253e-04,  4.38682655e-04,\n",
       "         4.38682655e-04,  3.47653041e-05,  3.47653041e-05,  3.47653041e-05,\n",
       "         3.47653041e-05,  3.47653041e-05,  3.47653041e-05,  1.57152940e-04,\n",
       "         1.57152940e-04, -2.39808261e-05, -2.39808261e-05, -1.08169612e-03,\n",
       "        -1.08169612e-03,  1.61616325e-03,  1.61616325e-03, -1.99273153e-02,\n",
       "         3.00726847e-02,  3.46264591e-04,  3.46264591e-04,  3.46264591e-04,\n",
       "         3.46264591e-04, -3.40628052e-04, -3.40628052e-04,  2.28732710e-03,\n",
       "         2.28732710e-03, -6.24437967e-04, -6.24437967e-04]),\n",
       " 0.9200578643360325)"
      ]
     },
     "execution_count": 19,
     "metadata": {},
     "output_type": "execute_result"
    }
   ],
   "source": [
    "lrg.coef_,lrg.intercept_"
   ]
  },
  {
   "cell_type": "code",
   "execution_count": 20,
   "id": "3ec54d94",
   "metadata": {},
   "outputs": [
    {
     "name": "stderr",
     "output_type": "stream",
     "text": [
      "Permutation explainer: 10001it [02:08, 71.92it/s]                               \n",
      "No data for colormapping provided via 'c'. Parameters 'vmin', 'vmax' will be ignored\n"
     ]
    },
    {
     "data": {
      "image/png": "[encoded data removed]",
      "text/plain": [
       "<Figure size 800x950 with 2 Axes>"
      ]
     },
     "metadata": {},
     "output_type": "display_data"
    }
   ],
   "source": [
    "explainer = shap.Explainer(lrg.predict, x_test)\n",
    "# Calculates the SHAP values - It takes some time\n",
    "shap_values = explainer(x_test)\n",
    "shap.summary_plot(shap_values, plot_type='violin',feature_names = features)"
   ]
  },
  {
   "cell_type": "code",
   "execution_count": 21,
   "id": "0e1f2a0b",
   "metadata": {},
   "outputs": [],
   "source": [
    "model = Linear(weights=torch.Tensor(lrg.coef_),bias=torch.ones(1)*lrg.intercept_)"
   ]
  },
  {
   "cell_type": "code",
   "execution_count": 22,
   "id": "78d0beae",
   "metadata": {},
   "outputs": [],
   "source": [
    "pickle.dump(lrg, open('model-lr', 'wb'))"
   ]
  },
  {
   "cell_type": "code",
   "execution_count": 23,
   "id": "22d6c5a0",
   "metadata": {},
   "outputs": [],
   "source": [
    "### an example of query recommendation\n",
    "\n",
    "x_test_ts = torch.Tensor(x_test.values.astype(np.float32))\n",
    "y_test_ts = torch.Tensor(y_test.values.astype(np.float32))\n",
    "query_x = x_test_ts[1].reshape(1,-1)\n",
    "qy = model(query_x)\n",
    "\n",
    "torch.save(model.state_dict(), 'model_weights.pth')"
   ]
  },
  {
   "cell_type": "code",
   "execution_count": 24,
   "id": "860d1524",
   "metadata": {},
   "outputs": [
    {
     "data": {
      "text/plain": [
       "1"
      ]
     },
     "execution_count": 24,
     "metadata": {},
     "output_type": "execute_result"
    }
   ],
   "source": [
    "query_features = [\"n_participant\",\"duration\",\"age>65\",\"male\",\"ethnicity_white\"]\n",
    "target_y = 0.9\n",
    "query_x.shape[0]"
   ]
  },
  {
   "cell_type": "code",
   "execution_count": 25,
   "id": "ff52febc",
   "metadata": {},
   "outputs": [
    {
     "name": "stdout",
     "output_type": "stream",
     "text": [
      "[0, 1, 2, 3, 4]\n"
     ]
    },
    {
     "name": "stderr",
     "output_type": "stream",
     "text": [
      "100%|███████████████████████████████████████| 200/200 [00:00<00:00, 2966.82it/s]"
     ]
    },
    {
     "name": "stdout",
     "output_type": "stream",
     "text": [
      "iter: 10, loss: 0.03728828951716423\n",
      "iter: 20, loss: 0.0200056042522192\n",
      "iter: 30, loss: 0.00909280963242054\n",
      "iter: 40, loss: 0.0033033997751772404\n",
      "iter: 50, loss: 0.0008612850215286016\n",
      "iter: 60, loss: 0.00012079372390871868\n",
      "iter: 70, loss: 9.189552088173514e-07\n",
      "iter: 80, loss: 9.478388165007345e-06\n",
      "iter: 90, loss: 1.2801709090126678e-05\n",
      "iter: 100, loss: 6.441572622861713e-06\n",
      "iter: 110, loss: 1.5499309711231035e-06\n",
      "iter: 120, loss: 9.324142524747003e-08\n",
      "iter: 130, loss: 2.416436473140493e-08\n",
      "iter: 140, loss: 6.691749376841472e-08\n",
      "iter: 150, loss: 3.4738892651375863e-08\n",
      "iter: 160, loss: 6.209020853020775e-09\n",
      "iter: 170, loss: 2.0520474208751693e-11\n",
      "iter: 180, loss: 5.856151119587594e-10\n",
      "iter: 190, loss: 5.238689482212067e-10\n",
      "iter: 200, loss: 1.2423484463397472e-10\n"
     ]
    },
    {
     "name": "stderr",
     "output_type": "stream",
     "text": [
      "\n"
     ]
    }
   ],
   "source": [
    "cx, cy, cf = query_recommendation(query_x,target_y=torch.ones(query_x.shape[0])*target_y,query_features=query_features,model=model)"
   ]
  },
  {
   "cell_type": "code",
   "execution_count": 26,
   "id": "9d293037",
   "metadata": {},
   "outputs": [
    {
     "name": "stdout",
     "output_type": "stream",
     "text": [
      "The recommendations is to change:duration --> 0.15574692; age>65 --> 0.62520736;\n",
      " The new retention rate would be 0.9\n"
     ]
    }
   ],
   "source": [
    "qstr = \" \".join([cf[i]+\" --> \"+str(cx[i])+\";\" for i in range(len(cf))])\n",
    "print(\"The recommendations is to change:\"+ qstr + '\\n The new retention rate would be '+str(cy[0].round(3)))"
   ]
  },
  {
   "cell_type": "code",
   "execution_count": null,
   "id": "06d6c0eb",
   "metadata": {},
   "outputs": [],
   "source": []
  }
 ],
 "metadata": {
  "kernelspec": {
   "display_name": "py39",
   "language": "python",
   "name": "py39"
  },
  "language_info": {
   "codemirror_mode": {
    "name": "ipython",
    "version": 3
   },
   "file_extension": ".py",
   "mimetype": "text/x-python",
   "name": "python",
   "nbconvert_exporter": "python",
   "pygments_lexer": "ipython3",
   "version": "3.9.15"
  }
 },
 "nbformat": 4,
 "nbformat_minor": 5
}
